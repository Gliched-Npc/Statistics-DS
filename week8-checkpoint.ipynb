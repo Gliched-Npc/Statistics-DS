{
 "cells": [
  {
   "cell_type": "code",
   "execution_count": null,
   "metadata": {},
   "outputs": [],
   "source": [
    "import numpy as np\n",
    "import matplotlib.pyplot as plt\n",
    "\n",
    "# Linear function example: y = 2x + 3\n",
    "x = np.linspace(-10, 10, 100)\n",
    "y = 2*x + 3\n",
    "\n",
    "plt.plot(x, y)\n",
    "plt.title(\"Linear Function: y = 2x + 3\")\n",
    "plt.show()\n"
   ]
  },
  {
   "cell_type": "code",
   "execution_count": null,
   "metadata": {},
   "outputs": [],
   "source": [
    "import numpy as np\n",
    "import matplotlib.pyplot as plt\n",
    "\n",
    "# Exponential growth\n",
    "x = np.linspace(0, 10, 100)\n",
    "y = np.exp(x)\n",
    "\n",
    "plt.plot(x, y)\n",
    "plt.title(\"Exponential Growth\")\n",
    "plt.show()\n",
    "\n",
    "# Log transformation\n",
    "x = np.linspace(1, 10, 100)\n",
    "y = np.log(x)\n",
    "\n",
    "plt.plot(x, y)\n",
    "plt.title(\"Logarithmic Transformation\")\n",
    "plt.show()\n"
   ]
  },
  {
   "cell_type": "code",
   "execution_count": null,
   "metadata": {},
   "outputs": [],
   "source": [
    "import numpy as np\n",
    "\n",
    "# Gradient of a simple quadratic function\n",
    "def cost_function(x):\n",
    "    return x**2\n",
    "\n",
    "def gradient(x):\n",
    "    return 2*x\n",
    "\n",
    "# Gradient descent to find minimum of the function\n",
    "learning_rate = 0.1\n",
    "x = 10  # Starting point\n",
    "\n",
    "for i in range(10):\n",
    "    grad = gradient(x)\n",
    "    x = x - learning_rate * grad\n",
    "    print(f\"Iteration {i+1}: x = {x}, cost = {cost_function(x)}\")\n"
   ]
  },
  {
   "cell_type": "code",
   "execution_count": null,
   "metadata": {},
   "outputs": [],
   "source": [
    "from sklearn.preprocessing import StandardScaler\n",
    "scaler = StandardScaler()\n",
    "X_scaled = scaler.fit_transform(X)\n",
    "import numpy as np\n",
    "covariance_matrix = np.cov(X_scaled.T)\n",
    "from numpy.linalg import eig\n",
    "eigenvalues, eigenvectors = eig(covariance_matrix)\n",
    "from sklearn.decomposition import PCA\n",
    "pca = PCA(n_components=2)\n",
    "X_pca = pca.fit_transform(X_scaled)\n",
    "\n",
    "\n"
   ]
  },
  {
   "cell_type": "code",
   "execution_count": null,
   "metadata": {},
   "outputs": [],
   "source": [
    "import numpy as np\n",
    "import pandas as pd\n",
    "import matplotlib.pyplot as plt\n",
    "from sklearn.decomposition import PCA\n",
    "from sklearn.preprocessing import StandardScaler\n",
    "from sklearn.datasets import load_iris\n",
    "\n",
    "# Load the Iris dataset\n",
    "iris = load_iris()\n",
    "X = iris.data  # Features\n",
    "y = iris.target  # Target (species)\n",
    "\n",
    "# Standardize the data (mean=0, variance=1)\n",
    "scaler = StandardScaler()\n",
    "X_scaled = scaler.fit_transform(X)\n",
    "\n",
    "# Apply PCA and reduce dimensions to 2\n",
    "pca = PCA(n_components=2)  # Reduce to 2 dimensions for visualization\n",
    "X_pca = pca.fit_transform(X_scaled)\n",
    "\n",
    "# Print the explained variance ratio to see how much variance is captured\n",
    "print(\"Explained Variance Ratio:\", pca.explained_variance_ratio_)\n",
    "\n",
    "# Create a scatter plot of the two principal components\n",
    "plt.figure(figsize=(8, 6))\n",
    "plt.scatter(X_pca[:, 0], X_pca[:, 1], c=y, cmap='viridis', edgecolor='k', s=100)\n",
    "plt.xlabel('First Principal Component')\n",
    "plt.ylabel('Second Principal Component')\n",
    "plt.title('PCA on Iris Dataset')\n",
    "plt.colorbar(label='Species')\n",
    "plt.grid()\n",
    "plt.show()\n",
    "\n",
    "\n"
   ]
  },
  {
   "cell_type": "code",
   "execution_count": null,
   "metadata": {},
   "outputs": [],
   "source": [
    "#basic"
   ]
  },
  {
   "cell_type": "markdown",
   "metadata": {},
   "source": [
    "# Vector Space"
   ]
  },
  {
   "cell_type": "code",
   "execution_count": null,
   "metadata": {},
   "outputs": [],
   "source": [
    "import numpy as np \n",
    "v1=np.array([1,2])\n",
    "v2=np.array([3,4])\n",
    "\n",
    "#vector addition \n",
    "V_sum=v1+v2\n",
    "print(\"Vector sum: \",V_sum)\n",
    "\n",
    "# scalar multipication\n",
    "scalar=3\n",
    "v_scalar=scalar*v1\n",
    "print(\"scalar vector\",v_scalar)"
   ]
  },
  {
   "cell_type": "markdown",
   "metadata": {},
   "source": [
    "#  Upper and Lower Triangular Matrices"
   ]
  },
  {
   "cell_type": "code",
   "execution_count": null,
   "metadata": {},
   "outputs": [],
   "source": [
    "up_trigl=np.triu(np.array([[1,2,3],[4,5,6],[7,8,9]]))\n",
    "lo_trigl=np.tril(np.array([[1,2,3],[4,5,6],[7,8,9]]))\n",
    "print(f'Upper triangulae=r:\\n {up_trigl}\\nLower triangular :\\n {lo_trigl}')"
   ]
  },
  {
   "cell_type": "markdown",
   "metadata": {},
   "source": [
    "# Eigenvalues and Eigenvectors"
   ]
  },
  {
   "cell_type": "code",
   "execution_count": null,
   "metadata": {},
   "outputs": [],
   "source": [
    "a=np.array([[1,2],[3,4]])\n",
    "eigenvalues,eigenvectors=np.linalg.eig(a)\n",
    "print(f'eigenvalues:\\n {eigenvalues}\\n eigenvector:\\n{eigenvectors}')"
   ]
  },
  {
   "cell_type": "markdown",
   "metadata": {},
   "source": [
    "# Linear Transformations"
   ]
  },
  {
   "cell_type": "code",
   "execution_count": null,
   "metadata": {},
   "outputs": [],
   "source": [
    "# Define a transformation matrix\n",
    "T = np.array([[2, 1], [0, 3]])\n",
    "v = np.array([1, 2])\n",
    "transform=T @ v  #using the @ operator for matrix multipictions\n",
    "print(\"transfored vector : \",transform)"
   ]
  },
  {
   "cell_type": "markdown",
   "metadata": {},
   "source": [
    "# Systems of Linear Equations"
   ]
  },
  {
   "cell_type": "code",
   "execution_count": null,
   "metadata": {},
   "outputs": [],
   "source": [
    "# Coefficient matrix\n",
    "A = np.array([[2, 3], [4, 1]])\n",
    "# Constant vector\n",
    "b = np.array([5, 11])\n",
    "solution=np.linalg.solve(A,b)\n",
    "print(\"Solution (x, y):\", solution)\n",
    "\n"
   ]
  },
  {
   "cell_type": "markdown",
   "metadata": {},
   "source": [
    "# Gaussian Elimination"
   ]
  },
  {
   "cell_type": "code",
   "execution_count": null,
   "metadata": {},
   "outputs": [],
   "source": [
    "from  scipy.linalg import lu\n",
    "# lu decompsition\n",
    "A = np.array([[2, 3], [4, 1]])\n",
    "P,L,U=lu(A)\n",
    "print(\"L:\\n\", L)\n",
    "print(\"U:\\n\", U)"
   ]
  },
  {
   "cell_type": "markdown",
   "metadata": {},
   "source": [
    "#  Rank of a Matrix"
   ]
  },
  {
   "cell_type": "code",
   "execution_count": null,
   "metadata": {},
   "outputs": [],
   "source": [
    "B = np.array([[1, 2], [2, 4], [3, 6]])\n",
    "rank_b=np.linalg.matrix_rank(B)\n",
    "rank_b"
   ]
  },
  {
   "cell_type": "markdown",
   "metadata": {},
   "source": [
    "# Principal Component Analysis (PCA)"
   ]
  },
  {
   "cell_type": "code",
   "execution_count": null,
   "metadata": {},
   "outputs": [],
   "source": [
    "from sklearn.decomposition import PCA\n",
    "data = np.array([[2.5, 2.4], [0.5, 0.7], [2.2, 2.9],\n",
    "                 [1.9, 2.2], [3.1, 3.0], [2.3, 2.7],\n",
    "                 [2, 1.6], [1, 1.1], [1.5, 1.6], [1.1, 0.9]])\n",
    "#Apply PCA and reduce data to 1 dimension\n",
    "pca=PCA(n_components=1)\n",
    "reduced_data=pca.fit_transform(data)\n",
    "print(\"Reduced Data Shape:\", reduced_data.shape)\n",
    "print(reduced_data)\n",
    "print(\"\")\n",
    "print(data)\n",
    "data.shape"
   ]
  },
  {
   "cell_type": "markdown",
   "metadata": {},
   "source": [
    "# Singular Value Decomposition (SVD)"
   ]
  },
  {
   "cell_type": "code",
   "execution_count": null,
   "metadata": {},
   "outputs": [],
   "source": [
    "u,s,vt=np.linalg.svd(data,full_matrices=False)\n",
    "print(\"U:\\n\", u)\n",
    "print(\"Singular Values:\", s)\n",
    "print(\"Vt:\\n\", vt)"
   ]
  },
  {
   "cell_type": "code",
   "execution_count": null,
   "metadata": {},
   "outputs": [],
   "source": []
  }
 ],
 "metadata": {
  "kernelspec": {
   "display_name": "Python 3",
   "language": "python",
   "name": "python3"
  },
  "language_info": {
   "codemirror_mode": {
    "name": "ipython",
    "version": 3
   },
   "file_extension": ".py",
   "mimetype": "text/x-python",
   "name": "python",
   "nbconvert_exporter": "python",
   "pygments_lexer": "ipython3",
   "version": "3.12.7"
  }
 },
 "nbformat": 4,
 "nbformat_minor": 2
}
